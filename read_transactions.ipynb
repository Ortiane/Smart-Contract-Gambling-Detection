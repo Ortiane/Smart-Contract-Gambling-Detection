{
 "cells": [
  {
   "cell_type": "code",
   "execution_count": 1,
   "metadata": {
    "ExecuteTime": {
     "end_time": "2020-04-10T19:43:51.188685Z",
     "start_time": "2020-04-10T19:43:51.185686Z"
    }
   },
   "outputs": [],
   "source": [
    "import os\n",
    "os.environ[\"WEB3_INFURA_PROJECT_ID\"] = 'a85ead96dd1843c99bf2b5e8ea9a998b'"
   ]
  },
  {
   "cell_type": "code",
   "execution_count": 2,
   "metadata": {
    "ExecuteTime": {
     "end_time": "2020-04-10T19:43:55.880508Z",
     "start_time": "2020-04-10T19:43:55.116343Z"
    }
   },
   "outputs": [],
   "source": [
    "from web3.auto.infura import w3\n",
    "import web3.eth"
   ]
  },
  {
   "cell_type": "code",
   "execution_count": 41,
   "metadata": {
    "ExecuteTime": {
     "end_time": "2020-04-10T20:12:51.179448Z",
     "start_time": "2020-04-10T20:12:51.045448Z"
    },
    "scrolled": false
   },
   "outputs": [
    {
     "name": "stdout",
     "output_type": "stream",
     "text": [
      "-----------------------------------------------------\n",
      "blockNumber: 9845717\n",
      "from: 0x00000000C0293c8cA34Dac9BCC0F953532D34e4d\n",
      "to: 0xD1CEeeeee83F8bCF3BEDad437202b6154E9F5405\n",
      "r: b'=#\\xc1\\xae\\x9c\\xf5\\xe6t2\\xedE\\xe9|\\x90!\\x02\\xfbP\\xa7\\xf1\\xaf\\xac\\xf5\\x06a\\x18\\xd9#\\xf1\\xd4\\xae6'\n",
      "s: b'8z\\xdf\\x9b\\xef\\x8b\\xb9\\x8av\\x91\\xb1\\xf9\\xeb\\xfcy]\\xeb\\xb6x\\x85$C\\xe4/*5\\x1f\\xbaP1\\x10-'\n",
      "v: 27\n",
      "input: 0xca722cdcccb4e763c4c3a088fa7636eeb2b96fe606f7976b5bb8bc07376583a6200ac83a47dac60abc8e93140326781b3a80c6bce19843da9816bc431b9a5bc799049f6b\n",
      "value: 0\n",
      "value in ether: 0.0\n",
      "-----------------------------------------------------\n",
      "AttributeDict({'blockHash': HexBytes('0x9f8bbb685b3e206ba7a38ee0154d720eb62e0a7a4e25b2d72f9d710ee2c1dfd8'), 'blockNumber': 9845717, 'from': '0x00000000C0293c8cA34Dac9BCC0F953532D34e4d', 'gas': 65000, 'gasPrice': 12000000000, 'hash': HexBytes('0x9dbbe66c20f4b6e680500bb6e5d155902e22a65737a43a95431cfbbedb6d005b'), 'input': '0xca722cdcccb4e763c4c3a088fa7636eeb2b96fe606f7976b5bb8bc07376583a6200ac83a47dac60abc8e93140326781b3a80c6bce19843da9816bc431b9a5bc799049f6b', 'nonce': 1824847, 'r': HexBytes('0x3d23c1ae9cf5e67432ed45e97c902102fb50a7f1afacf5066118d923f1d4ae36'), 's': HexBytes('0x387adf9bef8bb98a7691b1f9ebfc795debb678852443e42f2a351fba5031102d'), 'to': '0xD1CEeeeee83F8bCF3BEDad437202b6154E9F5405', 'transactionIndex': 32, 'v': 27, 'value': 0})\n",
      "-----------------------------------------------------\n",
      "blockNumber: 9845717\n",
      "from: 0x00000000C0293c8cA34Dac9BCC0F953532D34e4d\n",
      "to: 0xD1CEeeeee83F8bCF3BEDad437202b6154E9F5405\n",
      "r: b'\\xec[\\xfc\\xd5\\x96n\\x15\\x00\\x9e\\x90\\x81\\xbd\\xb8G80n\\x9b\\xc2?\\xf7o2-;\\xf4QX\\x0f\\n\\xb7\\x08'\n",
      "s: b'K\\x9c~\\x85\\x97\\x91\\xab1\\x8f;\\xa3\\xe1\\xfb\\xde~\\xa2\\x17\\x17E\\xde\\x19\\xf6\\xe6\\xe3\\xbb\\t\\x89\\x08\\xaa\\xdb\\xc6\\xf5'\n",
      "v: 27\n",
      "input: 0xca722cdc6320cf5ef7bb3aea1ea68e7a619d8457f042e9e3da3f4cb1b824c8cb47ebb0ba47dac60abc8e93140326781b3a80c6bce19843da9816bc431b9a5bc799049f6b\n",
      "value: 0\n",
      "value in ether: 0.0\n",
      "-----------------------------------------------------\n",
      "AttributeDict({'blockHash': HexBytes('0x9f8bbb685b3e206ba7a38ee0154d720eb62e0a7a4e25b2d72f9d710ee2c1dfd8'), 'blockNumber': 9845717, 'from': '0x00000000C0293c8cA34Dac9BCC0F953532D34e4d', 'gas': 65000, 'gasPrice': 12000000000, 'hash': HexBytes('0x79bb7c40700b2a3d8f4271dad80d1089820ec46434a613080c769ff6fec19277'), 'input': '0xca722cdc6320cf5ef7bb3aea1ea68e7a619d8457f042e9e3da3f4cb1b824c8cb47ebb0ba47dac60abc8e93140326781b3a80c6bce19843da9816bc431b9a5bc799049f6b', 'nonce': 1824848, 'r': HexBytes('0xec5bfcd5966e15009e9081bdb84738306e9bc23ff76f322d3bf451580f0ab708'), 's': HexBytes('0x4b9c7e859791ab318f3ba3e1fbde7ea2171745de19f6e6e3bb098908aadbc6f5'), 'to': '0xD1CEeeeee83F8bCF3BEDad437202b6154E9F5405', 'transactionIndex': 33, 'v': 27, 'value': 0})\n",
      "-----------------------------------------------------\n",
      "blockNumber: 9845717\n",
      "from: 0x00000000C0293c8cA34Dac9BCC0F953532D34e4d\n",
      "to: 0xD1CEeeeee83F8bCF3BEDad437202b6154E9F5405\n",
      "r: b'\\x01\\xb1\\xf8`%\\x1a\\x17JIOh\\x11{\\xde\\x13\\t\\x8e\\xbb\\xbaU\\x16\\xc0 i\\x15`p\\\\\\xbd\\x08GJ'\n",
      "s: b'\\x0b1I\\xbb|%\\x00\\xa7\\x15\\xdc\\xa0\\xb8\\xdb\\x9a\\x85P\\x82)\\x1ey|l\\xdc\\x90\\r\\xd7\\xc1J\\\\s\\x8a\\x88'\n",
      "v: 28\n",
      "input: 0xca722cdc8d23202b79fd750d6f180f1bc155a00e191c0061858342eede57ff800a11ea9247dac60abc8e93140326781b3a80c6bce19843da9816bc431b9a5bc799049f6b\n",
      "value: 0\n",
      "value in ether: 0.0\n",
      "-----------------------------------------------------\n",
      "AttributeDict({'blockHash': HexBytes('0x9f8bbb685b3e206ba7a38ee0154d720eb62e0a7a4e25b2d72f9d710ee2c1dfd8'), 'blockNumber': 9845717, 'from': '0x00000000C0293c8cA34Dac9BCC0F953532D34e4d', 'gas': 65000, 'gasPrice': 12000000000, 'hash': HexBytes('0x0a2ada4f586f021a0a7ce8c09811118c4dd63f449313c8cd3b96f68928538f6d'), 'input': '0xca722cdc8d23202b79fd750d6f180f1bc155a00e191c0061858342eede57ff800a11ea9247dac60abc8e93140326781b3a80c6bce19843da9816bc431b9a5bc799049f6b', 'nonce': 1824849, 'r': HexBytes('0x01b1f860251a174a494f68117bde13098ebbba5516c020691560705cbd08474a'), 's': HexBytes('0x0b3149bb7c2500a715dca0b8db9a855082291e797c6cdc900dd7c14a5c738a88'), 'to': '0xD1CEeeeee83F8bCF3BEDad437202b6154E9F5405', 'transactionIndex': 34, 'v': 28, 'value': 0})\n"
     ]
    }
   ],
   "source": [
    "def pretty_print(transaction):\n",
    "    print('-----------------------------------------------------')\n",
    "    print(f\"blockNumber: {transaction['blockNumber']}\")\n",
    "    print(f\"from: {transaction['from']}\")\n",
    "    print(f\"to: {transaction['to']}\")\n",
    "    print(f\"r: {transaction['r']}\")\n",
    "    print(f\"s: {transaction['s']}\")\n",
    "    print(f\"v: {transaction['v']}\")\n",
    "    print(f\"input: {transaction['input']}\")\n",
    "    print(f\"value: {transaction['value']}\")\n",
    "    print(f\"value in ether: {transaction['value']/1e18}\")\n",
    "    \n",
    "    print('-----------------------------------------------------')\n",
    "    return\n",
    "\n",
    "for transaction in w3.eth.getBlock(9845717, full_transactions=True)['transactions']:\n",
    "    if transaction['from'] == '0x00000000C0293c8cA34Dac9BCC0F953532D34e4d':\n",
    "        pretty_print(transaction)\n",
    "        print(transaction)"
   ]
  },
  {
   "cell_type": "code",
   "execution_count": null,
   "metadata": {},
   "outputs": [],
   "source": [
    "https://api.etherscan.io/api?module=account&action=txlistinternal&txhash=0x0a2ada4f586f021a0a7ce8c09811118c4dd63f449313c8cd3b96f68928538f6d&apikey=YourApiKeyToken"
   ]
  },
  {
   "cell_type": "markdown",
   "metadata": {},
   "source": [
    "all info -> nn -> cluster"
   ]
  }
 ],
 "metadata": {
  "kernelspec": {
   "display_name": "Python 3",
   "language": "python",
   "name": "python3"
  },
  "language_info": {
   "codemirror_mode": {
    "name": "ipython",
    "version": 3
   },
   "file_extension": ".py",
   "mimetype": "text/x-python",
   "name": "python",
   "nbconvert_exporter": "python",
   "pygments_lexer": "ipython3",
   "version": "3.7.7"
  }
 },
 "nbformat": 4,
 "nbformat_minor": 4
}
